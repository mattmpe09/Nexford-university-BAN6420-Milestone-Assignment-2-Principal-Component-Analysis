{
 "cells": [
  {
   "cell_type": "code",
   "execution_count": 1,
   "id": "8388c7d3",
   "metadata": {},
   "outputs": [],
   "source": [
    "# import the necessary libraries\n",
    "from sklearn.datasets import load_breast_cancer  #Loads the breast cancer dataset from sklearn.datasets\n",
    "from sklearn.preprocessing import StandardScaler #Standardizes features by removing the mean and scaling to unit variance.\n",
    "from sklearn.decomposition import PCA #Performs Principal Component Analysis for dimensionality reduction.\n",
    "from sklearn.linear_model import LogisticRegression #A classification algorithm used to predict binary outcomes.\n",
    "from sklearn.model_selection import train_test_split #Splits the dataset into training and testing sets.\n",
    "from sklearn.metrics import accuracy_score #Measures how well the classifier performs\n",
    "import matplotlib.pyplot as plt #Used for plotting the PCA components visually.\n",
    "\n",
    "\n",
    "df = load_breast_cancer()\n",
    "X = df.data\n",
    "y = df.target"
   ]
  },
  {
   "cell_type": "code",
   "execution_count": 2,
   "id": "e632f637",
   "metadata": {},
   "outputs": [],
   "source": [
    "# Ensures each feature contributes equally to the PCA.\n",
    "scaler = StandardScaler()\n",
    "X_scaled = scaler.fit_transform(X)"
   ]
  },
  {
   "cell_type": "code",
   "execution_count": 3,
   "id": "0aef5577",
   "metadata": {},
   "outputs": [],
   "source": [
    "# Computes the PCA and applies the transformation.\n",
    "pca = PCA(n_components=2)\n",
    "X_pca = pca.fit_transform(X_scaled)"
   ]
  },
  {
   "cell_type": "code",
   "execution_count": 5,
   "id": "ee66b6a6",
   "metadata": {},
   "outputs": [],
   "source": [
    "# Splitting the Data for Training and Testing\n",
    "X_train, X_test, y_train, y_test = train_test_split(X_pca, y, test_size=0.2, random_state=42)"
   ]
  },
  {
   "cell_type": "code",
   "execution_count": 6,
   "id": "a27f194b",
   "metadata": {},
   "outputs": [
    {
     "data": {
      "text/plain": [
       "LogisticRegression()"
      ]
     },
     "execution_count": 6,
     "metadata": {},
     "output_type": "execute_result"
    }
   ],
   "source": [
    "# Initializes the logistic regression model and Trains it on the PCA-reduced training data\n",
    "clf = LogisticRegression()\n",
    "clf.fit(X_train, y_train)"
   ]
  },
  {
   "cell_type": "code",
   "execution_count": 7,
   "id": "070a6bcf",
   "metadata": {},
   "outputs": [
    {
     "name": "stdout",
     "output_type": "stream",
     "text": [
      "Logistic Regression Accuracy on PCA-reduced data: 0.99\n"
     ]
    }
   ],
   "source": [
    "# Makes Predictions and Evaluating Accuracy\n",
    "y_pred = clf.predict(X_test)\n",
    "accuracy = accuracy_score(y_test, y_pred)\n",
    "print(f\"Logistic Regression Accuracy on PCA-reduced data: {accuracy:.2f}\")"
   ]
  },
  {
   "cell_type": "code",
   "execution_count": null,
   "id": "0e11b025",
   "metadata": {},
   "outputs": [],
   "source": []
  }
 ],
 "metadata": {
  "kernelspec": {
   "display_name": "Python 3 (ipykernel)",
   "language": "python",
   "name": "python3"
  },
  "language_info": {
   "codemirror_mode": {
    "name": "ipython",
    "version": 3
   },
   "file_extension": ".py",
   "mimetype": "text/x-python",
   "name": "python",
   "nbconvert_exporter": "python",
   "pygments_lexer": "ipython3",
   "version": "3.9.12"
  }
 },
 "nbformat": 4,
 "nbformat_minor": 5
}
